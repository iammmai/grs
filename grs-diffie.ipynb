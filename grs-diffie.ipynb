{
 "cells": [
  {
   "cell_type": "markdown",
   "id": "a16b2d28",
   "metadata": {},
   "source": [
    "# Aufgabenblatt 3, Aufgabe 5.4.b)"
   ]
  },
  {
   "cell_type": "code",
   "execution_count": 7,
   "id": "3784445b",
   "metadata": {},
   "outputs": [],
   "source": [
    "import numpy as np"
   ]
  },
  {
   "cell_type": "code",
   "execution_count": 8,
   "id": "a70690d5",
   "metadata": {},
   "outputs": [],
   "source": [
    "def concat(arr1, arr2):\n",
    "    return [ arr1[x-1] for x in arr2]"
   ]
  },
  {
   "cell_type": "code",
   "execution_count": 9,
   "id": "93041129",
   "metadata": {},
   "outputs": [],
   "source": [
    "def findExp(g, gx):\n",
    "    i=1\n",
    "    result=g\n",
    "    while np.array_equal(result,gx) == False:\n",
    "        result = concat(result, g)\n",
    "        i+=1\n",
    "    return i"
   ]
  },
  {
   "cell_type": "markdown",
   "id": "e2052f22",
   "metadata": {},
   "source": [
    "Berechne a"
   ]
  },
  {
   "cell_type": "code",
   "execution_count": 17,
   "id": "dcee1359",
   "metadata": {},
   "outputs": [
    {
     "name": "stdout",
     "output_type": "stream",
     "text": [
      "a= 9\n"
     ]
    }
   ],
   "source": [
    "g=np.array([7, 6, 5, 9, 4, 8, 1, 2, 10, 3])\n",
    "ga=np.array([7, 8, 4, 10, 9, 2, 1, 6, 3, 5])\n",
    "a=findExp(g, ga)\n",
    "print(\"a=\",a)"
   ]
  },
  {
   "cell_type": "markdown",
   "id": "6dd7df5a",
   "metadata": {},
   "source": [
    "Berechne b"
   ]
  },
  {
   "cell_type": "code",
   "execution_count": 18,
   "id": "22727059",
   "metadata": {},
   "outputs": [
    {
     "name": "stdout",
     "output_type": "stream",
     "text": [
      "b= 9\n"
     ]
    }
   ],
   "source": [
    "g=np.array([7, 6, 5, 9, 4, 8, 1, 2, 10, 3])\n",
    "gb=np.array([7, 2, 10, 5, 3, 6, 1, 8, 4, 9])\n",
    "b=findExp(g, gb)\n",
    "print(\"b=\",b)"
   ]
  },
  {
   "cell_type": "markdown",
   "id": "253417ef",
   "metadata": {},
   "source": [
    "Berechne g^(a*b)"
   ]
  },
  {
   "cell_type": "code",
   "execution_count": 14,
   "id": "0412d29b",
   "metadata": {},
   "outputs": [],
   "source": [
    "def raiseArray(arr, exp):\n",
    "    result = arr\n",
    "    for i in range(exp):\n",
    "        result = concat(result, arr)\n",
    "    return result"
   ]
  },
  {
   "cell_type": "code",
   "execution_count": 20,
   "id": "cbcc0249",
   "metadata": {},
   "outputs": [
    {
     "name": "stdout",
     "output_type": "stream",
     "text": [
      "g^(a*b)= [1, 6, 10, 5, 3, 8, 7, 2, 4, 9]\n"
     ]
    }
   ],
   "source": [
    "gab = raiseArray(g, a*b)\n",
    "print(\"g^(a*b)=\", gab)"
   ]
  },
  {
   "cell_type": "code",
   "execution_count": null,
   "id": "b66e38ef",
   "metadata": {},
   "outputs": [],
   "source": []
  }
 ],
 "metadata": {
  "kernelspec": {
   "display_name": "Python 3 (ipykernel)",
   "language": "python",
   "name": "python3"
  },
  "language_info": {
   "codemirror_mode": {
    "name": "ipython",
    "version": 3
   },
   "file_extension": ".py",
   "mimetype": "text/x-python",
   "name": "python",
   "nbconvert_exporter": "python",
   "pygments_lexer": "ipython3",
   "version": "3.9.7"
  }
 },
 "nbformat": 4,
 "nbformat_minor": 5
}
